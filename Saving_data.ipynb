{
 "cells": [
  {
   "cell_type": "code",
   "execution_count": 1,
   "metadata": {},
   "outputs": [
    {
     "name": "stderr",
     "output_type": "stream",
     "text": [
      "/Users/valeryfischer/anaconda2/envs/tensorflow/lib/python3.5/importlib/_bootstrap.py:222: RuntimeWarning: numpy.dtype size changed, may indicate binary incompatibility. Expected 96, got 88\n",
      "  return f(*args, **kwds)\n",
      "/Users/valeryfischer/anaconda2/envs/tensorflow/lib/python3.5/importlib/_bootstrap.py:222: RuntimeWarning: numpy.dtype size changed, may indicate binary incompatibility. Expected 96, got 88\n",
      "  return f(*args, **kwds)\n"
     ]
    }
   ],
   "source": [
    "from datascience import *\n",
    "import random\n",
    "import numpy as np\n",
    "import glob\n",
    "import pandas as pd"
   ]
  },
  {
   "cell_type": "code",
   "execution_count": 2,
   "metadata": {},
   "outputs": [],
   "source": [
    "# Path to import data; can be changed to ml-clean bucket in aws instance\n",
    "data_path = '../posmo_classifier/data/iOS/v8/'\n",
    "\n",
    "# Define a list of transport modes used in the plotting\n",
    "tm_list = [1, 2, 3, 5, 6, 7, 13]\n",
    "\n",
    "# creating empty lists for storing data\n",
    "walk = np.array([])\n",
    "run = np.array([])\n",
    "bike = np.array([])\n",
    "tram = np.array([])\n",
    "bus = np.array([])\n",
    "train = np.array([])\n",
    "car = np.array([])"
   ]
  },
  {
   "cell_type": "code",
   "execution_count": 3,
   "metadata": {},
   "outputs": [],
   "source": [
    "def reduce_sample_size(data):\n",
    "    lengths = []\n",
    "    for mode in data:\n",
    "        lengths.append(len(mode))\n",
    "    m = min(lengths)\n",
    "    walk = np.random.choice(walk, size=m)\n",
    "    run = np.random.choice(run, size=m)\n",
    "    bike = np.random.choice(bike, size=m)\n",
    "    tram = np.random.choice(tram, size=m)\n",
    "    bus = np.random.choice(bus, size=m)\n",
    "    train = np.random.choice(train, size=m)\n",
    "    car = np.random.choice(car, size=m)"
   ]
  },
  {
   "cell_type": "code",
   "execution_count": null,
   "metadata": {
    "scrolled": true
   },
   "outputs": [
    {
     "name": "stdout",
     "output_type": "stream",
     "text": [
      "File uploaded: 1/283\n",
      "File uploaded: 2/283\n",
      "File uploaded: 3/283\n",
      "File uploaded: 4/283\n",
      "File uploaded: 5/283\n",
      "File uploaded: 6/283\n",
      "File uploaded: 7/283\n",
      "File uploaded: 8/283\n",
      "File uploaded: 9/283\n",
      "File uploaded: 10/283\n",
      "File uploaded: 11/283\n",
      "File uploaded: 12/283\n",
      "File uploaded: 13/283\n",
      "File uploaded: 14/283\n",
      "File uploaded: 15/283\n",
      "File uploaded: 16/283\n",
      "File uploaded: 17/283\n",
      "File uploaded: 18/283\n",
      "File uploaded: 19/283\n",
      "File uploaded: 20/283\n",
      "File uploaded: 21/283\n",
      "File uploaded: 22/283\n",
      "File uploaded: 23/283\n",
      "File uploaded: 25/283\n",
      "File uploaded: 26/283\n",
      "File uploaded: 27/283\n",
      "File uploaded: 28/283\n",
      "File uploaded: 29/283\n",
      "File uploaded: 30/283\n",
      "File uploaded: 31/283\n",
      "File uploaded: 32/283\n",
      "File uploaded: 33/283\n",
      "File uploaded: 34/283\n",
      "File uploaded: 35/283\n",
      "File uploaded: 36/283\n",
      "File uploaded: 37/283\n",
      "File uploaded: 38/283\n",
      "File uploaded: 39/283\n",
      "File uploaded: 40/283\n",
      "File uploaded: 41/283\n",
      "File uploaded: 42/283\n",
      "File uploaded: 43/283\n",
      "File uploaded: 44/283\n",
      "File uploaded: 45/283\n",
      "File uploaded: 46/283\n",
      "File uploaded: 47/283\n",
      "File uploaded: 48/283\n",
      "File uploaded: 49/283\n",
      "File uploaded: 50/283\n",
      "File uploaded: 51/283\n",
      "File uploaded: 52/283\n",
      "File uploaded: 54/283\n",
      "File uploaded: 55/283\n",
      "File uploaded: 56/283\n",
      "File uploaded: 57/283\n",
      "File uploaded: 58/283\n",
      "File uploaded: 59/283\n",
      "File uploaded: 60/283\n",
      "File uploaded: 61/283\n",
      "File uploaded: 62/283\n",
      "File uploaded: 63/283\n",
      "File uploaded: 64/283\n",
      "File uploaded: 65/283\n",
      "File uploaded: 66/283\n",
      "File uploaded: 67/283\n",
      "File uploaded: 68/283\n",
      "File uploaded: 69/283\n",
      "File uploaded: 70/283\n",
      "File uploaded: 72/283\n",
      "File uploaded: 73/283\n",
      "File uploaded: 74/283\n",
      "File uploaded: 75/283\n",
      "File uploaded: 76/283\n",
      "File uploaded: 77/283\n",
      "File uploaded: 78/283\n",
      "File uploaded: 79/283\n",
      "File uploaded: 80/283\n"
     ]
    }
   ],
   "source": [
    "# Selective extraction of data\n",
    "files = []\n",
    "for fname in glob.glob(data_path + '*.csv'):\n",
    "    files.append(fname)\n",
    "\n",
    "# Iterate through files and save data in .npz file\n",
    "file_number = 0\n",
    "for file in files:\n",
    "    file_number += 1\n",
    "    if pd.read_csv(file).loc[0, 'label_id'] in tm_list:\n",
    "        label = pd.read_csv(file).loc[0, 'label_id']\n",
    "        df = pd.read_csv(file).loc[:, 'speed']\n",
    "        df = df.dropna()\n",
    "        #df = df[df > 0.1]\n",
    "        speed = df.as_matrix()\n",
    "        speed *= 3.6\n",
    "        if label == 1:\n",
    "            walk = np.append(walk, speed)\n",
    "        elif label == 2:\n",
    "            run = np.append(run, speed)\n",
    "        elif label == 3:\n",
    "            bike = np.append(bike, speed)\n",
    "        elif label == 5:\n",
    "            tram = np.append(tram, speed)\n",
    "        elif label == 6:\n",
    "            bus = np.append(bus, speed)\n",
    "        elif label == 7:\n",
    "            train = np.append(train, speed)\n",
    "        else:\n",
    "            car = np.append(car, speed)\n",
    "        print('File uploaded: {}/{}'.format(file_number, len(files)))\n",
    "reduce_sample_size([walk, run, bike, tram, bus, train, car])\n",
    "np.savez('data/saved_data', walk=walk, run=run, bike=bike, tram=tram, bus=bus, train=train, car=car)\n",
    "print('Data saved in: data/saved_data.npz')"
   ]
  },
  {
   "cell_type": "code",
   "execution_count": null,
   "metadata": {},
   "outputs": [],
   "source": []
  }
 ],
 "metadata": {
  "kernelspec": {
   "display_name": "Python 3",
   "language": "python",
   "name": "python3"
  },
  "language_info": {
   "codemirror_mode": {
    "name": "ipython",
    "version": 3
   },
   "file_extension": ".py",
   "mimetype": "text/x-python",
   "name": "python",
   "nbconvert_exporter": "python",
   "pygments_lexer": "ipython3",
   "version": "3.5.4"
  }
 },
 "nbformat": 4,
 "nbformat_minor": 2
}
